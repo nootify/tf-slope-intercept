{
 "metadata": {
  "language_info": {
   "codemirror_mode": {
    "name": "ipython",
    "version": 3
   },
   "file_extension": ".py",
   "mimetype": "text/x-python",
   "name": "python",
   "nbconvert_exporter": "python",
   "pygments_lexer": "ipython3",
   "version": "3.8.5-final"
  },
  "orig_nbformat": 2,
  "kernelspec": {
   "name": "Python 3.8.5 64-bit ('venv': venv)",
   "display_name": "Python 3.8.5 64-bit ('venv': venv)",
   "metadata": {
    "interpreter": {
     "hash": "925650b37134cba7bccf73807a58c8ea9b6bb5d4c0a08db34a813fc5be15c602"
    }
   }
  }
 },
 "nbformat": 4,
 "nbformat_minor": 2,
 "cells": [
  {
   "cell_type": "code",
   "execution_count": 1,
   "metadata": {},
   "outputs": [],
   "source": [
    "import random\n",
    "\n",
    "import numpy as np\n",
    "import tensorflow as tf\n",
    "from tensorflow import keras"
   ]
  },
  {
   "cell_type": "code",
   "execution_count": 2,
   "metadata": {},
   "outputs": [],
   "source": [
    "model = tf.keras.Sequential([keras.layers.Dense(units=1, input_shape=[1])])\n",
    "model.compile(optimizer=\"sgd\", loss=\"mean_squared_error\")"
   ]
  },
  {
   "cell_type": "code",
   "execution_count": 3,
   "metadata": {},
   "outputs": [
    {
     "output_type": "stream",
     "name": "stdout",
     "text": [
      "Equation: y = 47x + -419\n"
     ]
    }
   ],
   "source": [
    "# Slope-intercept equation constants (y = mx + b)\n",
    "SLOPE = random.randint(-1000, 1000)\n",
    "INTERCEPT = random.randint(-1000, 1000)\n",
    "\n",
    "# The range of x values to choose from\n",
    "start_range = -5\n",
    "end_range = 5\n",
    "\n",
    "x_values = np.arange(start_range, end_range)\n",
    "y_values = np.array([(SLOPE * x + INTERCEPT) for x in x_values])\n",
    "\n",
    "print(f\"Equation: y = {SLOPE}x + {INTERCEPT}\")"
   ]
  },
  {
   "cell_type": "code",
   "execution_count": 4,
   "metadata": {},
   "outputs": [
    {
     "output_type": "stream",
     "name": "stdout",
     "text": [
      "x: -975 | Actual: -46244 | Predicted: -46246 | Off by: 2\n",
      "x: -969 | Actual: -45962 | Predicted: -45964 | Off by: 2\n",
      "x: -930 | Actual: -44129 | Predicted: -44130 | Off by: 1\n",
      "x: -719 | Actual: -34212 | Predicted: -34213 | Off by: 1\n",
      "x: -692 | Actual: -32943 | Predicted: -32944 | Off by: 1\n",
      "x: -533 | Actual: -25470 | Predicted: -25471 | Off by: 1\n",
      "x: -400 | Actual: -19219 | Predicted: -19220 | Off by: 1\n",
      "x: -314 | Actual: -15177 | Predicted: -15177 | Off by: 0\n",
      "x: -25 | Actual: -1594 | Predicted: -1594 | Off by: 0\n",
      "x: 366 | Actual: 16783 | Predicted: 16784 | Off by: -1\n"
     ]
    }
   ],
   "source": [
    "# Train the model and use its predictions for some given x values\n",
    "model.fit(x_values, y_values, epochs=500, verbose=0)\n",
    "\n",
    "test_values = [random.randint(-1000, 1000) for _ in range(10)]\n",
    "test_values.sort()\n",
    "for value in test_values:\n",
    "    actual = SLOPE * value + INTERCEPT\n",
    "    predicted = model.predict([value])\n",
    "    predicted_rounded = int(round(predicted[0][0]))  # Note: round() uses banker's rounding\n",
    "    print(f\"x: {value} | Actual: {actual} | Predicted: {predicted_rounded} | Off by: {actual - predicted_rounded}\")"
   ]
  }
 ]
}